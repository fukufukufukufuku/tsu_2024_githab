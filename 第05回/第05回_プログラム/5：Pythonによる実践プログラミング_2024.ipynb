{
 "cells": [
  {
   "cell_type": "markdown",
   "metadata": {},
   "source": [
    "<div style=\"text-align: right; font-weight: bold;\">\n",
    "東京工科大学コンピュータサイエンス学部<br>\n",
    "福西広晃\n",
    "</div>"
   ]
  },
  {
   "cell_type": "markdown",
   "metadata": {},
   "source": [
    "----"
   ]
  },
  {
   "cell_type": "markdown",
   "metadata": {},
   "source": [
    "<span style=\"font-size: 250%; color: black;\">5：Pythonによる実践プログラミング</span>"
   ]
  },
  {
   "cell_type": "markdown",
   "metadata": {},
   "source": [
    "----"
   ]
  },
  {
   "cell_type": "markdown",
   "metadata": {},
   "source": [
    "# ライブラリに関して\n",
    " - ライブラリとは、よく使う機能を関数やクラスにまとめて、簡単に使えるようにしたもの\n",
    " - ライブラリの中身のプログラムがブラックボックスであっても、入力と出力がわかっていれば簡単に実装し、実行することができる\n",
    " - Pythonに標準で組み込まれていないライブラリはインストールして使用する\n",
    "```Python\n",
    "pip install ライブラリ名\n",
    "```\n",
    "\n",
    "- ライブラリを使用するときは`import文`を使う\n",
    "```Python\n",
    "import ライブラリ名\n",
    "```\n",
    "\n",
    "- この回では、様々なライブラリをインストールしてアプリケーションを作成する "
   ]
  },
  {
   "cell_type": "markdown",
   "metadata": {},
   "source": [
    "----"
   ]
  },
  {
   "cell_type": "markdown",
   "metadata": {},
   "source": [
    "# 準備"
   ]
  },
  {
   "cell_type": "markdown",
   "metadata": {},
   "source": [
    "## Googleドライブにアクセス"
   ]
  },
  {
   "cell_type": "code",
   "execution_count": null,
   "metadata": {},
   "outputs": [],
   "source": [
    "#以下のコメントアウトを外してください\n",
    "#from google.colab import drive\n",
    "#drive.mount('/content/drive')"
   ]
  },
  {
   "cell_type": "markdown",
   "metadata": {},
   "source": [
    "----"
   ]
  },
  {
   "cell_type": "markdown",
   "metadata": {},
   "source": [
    "# Googleトレンドの分析\n",
    "- Goolgeトレンドとは、Google検索の動向をチェックできるツール\n",
    "- ユーザーニーズを把握できるため、企業のマーケティング活動にも活用可能"
   ]
  },
  {
   "cell_type": "markdown",
   "metadata": {},
   "source": [
    "## ライブラリのインストール\n",
    "- ライブラリ名: `pytrends`\n",
    "- [Googleトレンドサイト](https://trends.google.co.jp/trends/)のデータを分析できる\n",
    "- Google公式のライブラリではないためサービスが終了する可能性あり（2023/08/01現在、利用可能）\n",
    "<br><br>\n",
    "- ライブラリ名: `japanize-matplotlib`\n",
    "- グラフの日本語対応"
   ]
  },
  {
   "cell_type": "code",
   "execution_count": null,
   "metadata": {},
   "outputs": [],
   "source": [
    "#以下のコメントアウトを外してください\n",
    "#!pip install pytrends\n",
    "#!pip install japanize-matplotlib"
   ]
  },
  {
   "cell_type": "markdown",
   "metadata": {},
   "source": [
    "## 検索数の推移を分析\n",
    "- オブジェクトを作成（日本語、日本時間の設定）\n",
    "```Python\n",
    "pytrends = TrendReq(hl=\"ja-JP\", tz=540)\n",
    "```\n",
    "  - `hl`(host language): 日本語の場合、`jp-JP`を設定\n",
    "  - `tz`(time zoon): 標準時間との時差。日本の場合、9時間=`540`分を設定\n",
    "<br><br>\n",
    "- データ取得の準備（キーワードのリストや期間等のパラメータを指定。後に interest_over_time 等のメソッドを使用できる状態に設定）\n",
    "```Python\n",
    "pytrends.build_payload(kw_list=キーリスト, cat=カテゴリ, timeframe=\"期間\", geo=\"地域\", gprop=\"フィルター\")`\n",
    "```\n",
    "  - `kw_list`: 検索するキーワード。リストで複数指定可能\n",
    "  - `cat`: 対象とするカテゴリー。これを指定すれば、検索範囲を絞ることができる。指定しない場合または0を指定した場合は、カテゴリー指定なし。[指定する値はこちらを参照](https://github.com/pat310/google-trends-api/wiki/Google-Trends-Categories)\n",
    "  - `timeframe`: 対象とする期間。指定しない場合は、5年間。対象期間が270日以内の場合１日単位、270日より大きい場合1週間単位\n",
    "  - `geo`: 対象とする地域。指定しない場合、全世界対象。日本のみを対象とする場合、「JP」。<br>都道府県を指定する場合、北海道「JP-01」、青森県「JP-02」、岩手県「JP-03」、宮城県「JP-04」、秋田県「JP-05」、山形県「JP-06」、福島県「JP-07」、茨城県「JP-08」、栃木県「JP-09」、群馬県「JP-10」、埼玉県「JP-11」、千葉県「JP-12」、東京都「JP-13」、神奈川県「JP-14」、新潟県「JP-15」、富山県「JP-16」、石川県「JP-17」、福井県「JP-18」、山梨県「JP-19」、長野県「JP-20」、岐阜県「JP-21」、静岡県「JP-22」、愛知県「JP-23」、三重県「JP-24」、滋賀県「JP-25」、京都府「JP-26」、大阪府「JP-27」、兵庫県「JP-28」、奈良県「JP-29」、和歌山県「JP-30」、鳥取県「JP-31」、島根県「JP-32」、岡山県「JP-33」、広島県「JP-34」、山口県「JP-35」、徳島県「JP-36」、香川県「JP-37」、愛媛県「JP-38」、高知県「JP-39」、福岡県「JP-40」、佐賀県「JP-41」、長崎県「JP-42」、熊本県「JP-43」、大分県「JP-44」、宮崎県「JP-45」、鹿児島県「JP-46」、沖縄県「JP-47」。\n",
    "  - `gprop`: 対象とするフィルター。指定しない場合、「すべて」。指定する場合、images（画像）、youtube（動画）、news（ニュース）、froogle（ショッピング）\n",
    "<br><br>\n",
    "- 検索数の推移データを取得\n",
    "```Python\n",
    "pytrends.interest_over_time()\n",
    "```\n",
    " - Pandasデータフレーム形式で出力\n",
    " - `検索数`: Googleトレンドのデータは特定の期間内での検索クエリの相対的な関心度を示すもの。`純粋な検索数ではなく0-100の範囲でスコア化されていることに注意`。相対的な関心度を示すため、絶対的な数値として解釈するのではなく、トレンドの変化や相対的な関心の比較に使用されることが一般的。\n",
    "  - `isPartial`: Falseの場合、完全な値。Trueの場合、不完全な値（推定値）。Trueの場合は推定値のため注意が必要。\n",
    "  - 十分な検索ボリュームがないキーワードは結果が表示されないことがある"
   ]
  },
  {
   "cell_type": "code",
   "execution_count": null,
   "metadata": {},
   "outputs": [],
   "source": [
    "# 関数定義（検索数の推移データを取得）\n",
    "# - 関数名：interest_over_time\n",
    "# - 引数：pytrendsオブジェクト、キーワードリスト、期間、地域、カテゴリ、フィルター\n",
    "# - 戻り値：検索数の推移（データフレーム）\n",
    "\n",
    "def interest_over_time(pytrends, kw_list, timeframe, geo, cat, gprop):\n",
    "    # Googleトレンドデータを取得\n",
    "    pytrends.build_payload(kw_list=kw_list, cat=cat, timeframe=timeframe, geo=geo, gprop=gprop)\n",
    "\n",
    "    #データ取得\n",
    "    df_interest_over_time = pytrends.interest_over_time()\n",
    "    \n",
    "    return df_interest_over_time"
   ]
  },
  {
   "cell_type": "code",
   "execution_count": null,
   "metadata": {
    "scrolled": false
   },
   "outputs": [],
   "source": [
    "from pytrends.request import TrendReq # Google Trendsに接続\n",
    "import pandas as pd\n",
    "\n",
    "# 条件設定（各自で設定）\n",
    "#------------------------------------------------------------------\n",
    "kw_list   = [\"東京工科大学\",\"神奈川工科大学\"] # キーワード（コンマ区切りで複数設定可能）\n",
    "timeframe = \"2024-04-01 2024-09-30\"      # 期間：2023年上半期\n",
    "geo       = \"JP\"                         # 地域：日本\n",
    "cat       = 0                            # （必要に応じて変更）カテゴリ指定なし\n",
    "gprop     = ''                           # （必要に応じて変更）フィルター指定なし\n",
    "#------------------------------------------------------------------\n",
    "\n",
    "# オブジェクト生成（ツール呼び出し）\n",
    "pytrends = TrendReq(hl=\"ja-JP\", tz=540) # 日本時間設定 \n",
    "\n",
    "# 関数呼び出し（検索数の推移データを取得）\n",
    "df_interest_over_time = interest_over_time(pytrends, kw_list, timeframe, geo, cat, gprop)\n",
    "\n",
    "# 結果表示\n",
    "display(df_interest_over_time)"
   ]
  },
  {
   "cell_type": "markdown",
   "metadata": {},
   "source": [
    "## 検索数の推移グラフを作成"
   ]
  },
  {
   "cell_type": "code",
   "execution_count": null,
   "metadata": {},
   "outputs": [],
   "source": [
    "# 関数の定義（検索数の推移グラフを作成）\n",
    "# - 関数名：trend_graph\n",
    "# - 引数：pytrendsオブジェクト、キーワードリスト、期間、地域、カテゴリ、フィルター\n",
    "# - 戻り値：検索数の推移（データフレーム）\n",
    "\n",
    "def trend_graph(df_input, pngfile):    \n",
    "    # グラフに使用する列名取得\n",
    "    cols = df_input.columns.to_list() # 列名取得\n",
    "    cols.remove(\"isPartial\")          # 不要な「isPartial」を削除\n",
    "    \n",
    "    # グラフ作成前に設定するオプション\n",
    "    plt.figure(figsize=(16, 4)) # 図のサイズ（横×縦）\n",
    "\n",
    "    \n",
    "    # グラフ作成(x軸、y軸、凡例タイトル、線幅、色を指定)\n",
    "    date  = df_input.index     # 日付けデータを取得（インデックス）\n",
    "    for i in cols:            # 列ごとのデータ取得\n",
    "        score = df_input[i]\n",
    "        plt.plot(date, score, label=i) \n",
    "\n",
    "    # 追加オプション\n",
    "    plt.title(\"Googleトレンド\",fontsize=15)   # グラフタイトル\n",
    "    plt.ylabel('検索数(スコア)',fontsize=15)  # y軸ラベル\n",
    "    plt.legend(fontsize=15, loc=\"best\")       # 凡例\n",
    "    plt.grid()                                # 補助線追加\n",
    "\n",
    "    # グラフ画像の保存\n",
    "    plt.savefig(pngfile, bbox_inches='tight')  \n",
    "    \n",
    "    # グラフ表示\n",
    "    plt.show()"
   ]
  },
  {
   "cell_type": "code",
   "execution_count": null,
   "metadata": {},
   "outputs": [],
   "source": [
    "import matplotlib.pyplot as plt # グラフ作成\n",
    "import japanize_matplotlib      # 日本語対応\n",
    "%matplotlib inline\n",
    "\n",
    "# 条件設定（各自で設定）\n",
    "#------------------------------------------------------------------\n",
    "df_input = df_interest_over_time       # 使用するデータフレーム名\n",
    "pngfile  = \"グラフ_Googleトレンド.png\" # グラフ画像のファイル名\n",
    "\n",
    "# Googleドライブの場合はコメントアウトを外す\n",
    "#pngfile = \"drive/My Drive/Colab Notebooks/第05回_プログラム/グラフ_Googleトレンド.png\"\n",
    "#------------------------------------------------------------------    \n",
    "\n",
    "# 関数呼び出し（検索数の推移グラフを作成）\n",
    "trend_graph(df_input, pngfile) # 引数: df_input,pngfile, 戻り値: なし"
   ]
  },
  {
   "cell_type": "markdown",
   "metadata": {},
   "source": [
    "## 地域別検索数の分析\n",
    "```Python\n",
    "pytrends.interest_by_region(resolution=\"JP\", inc_geo_code=True)\n",
    "```\n",
    "- Pandasデータフレーム形式で出力\n",
    "- `resolution`: 地域を指定。日本の場合、`JP`\n",
    "- `inc_geo_code`: geocode（都道府県コード）の追加を指定。追加したい場合、`True`"
   ]
  },
  {
   "cell_type": "code",
   "execution_count": null,
   "metadata": {},
   "outputs": [],
   "source": [
    "# 関数設定（地域別検索数の取得）\n",
    "# - 関数名：interest_by_region\n",
    "# - 引数：pytrendsオブジェクト、ランキングで並び変えに使う列名\n",
    "# - 戻り値：地域別検索数（データフレーム）\n",
    "\n",
    "def interest_by_region(pytrends, kw_list):\n",
    "    # 地域別検索数の計算（kw_sortの列名を降順で並び替え）\n",
    "    df_interest_by_region = pytrends.interest_by_region(resolution=\"JP\", inc_geo_code=True).sort_values(by=kw_list[0], ascending=False)\n",
    "    \n",
    "    return df_interest_by_region"
   ]
  },
  {
   "cell_type": "code",
   "execution_count": null,
   "metadata": {},
   "outputs": [],
   "source": [
    "# 関数呼び出し（地域別検索数の取得）\n",
    "# - データ出力先：df_interest_by_region\n",
    "# - kw_listはinterest_over_timeのセルで読み込み済み\n",
    "df_interest_by_region = interest_by_region(pytrends, kw_list)\n",
    "\n",
    "# 結果表示\n",
    "display(df_interest_by_region)"
   ]
  },
  {
   "cell_type": "markdown",
   "metadata": {},
   "source": [
    "## 関連キーワード別検索数の分析\n",
    "```Python\n",
    "related_queries = pytrends.related_queries()\n",
    "```\n",
    "- related_queriesは、関連キーワード別の検索数を取り出す\n",
    "- 上位キーワードと急上昇キーワードを区別\n",
    "- 上位キーワードの検索ランキングをデータフレームで出力: `related_queries[\"キーワード\"][\"top\"]`\n",
    "- 急上昇キーワードの検索ランキングををデータフレームで出力: `related_queries[\"キーワード\"][\"rising\"]`"
   ]
  },
  {
   "cell_type": "code",
   "execution_count": null,
   "metadata": {},
   "outputs": [],
   "source": [
    "# 関数設定（関連キーワード別検索数の取得）\n",
    "# - 関数名：related_queries\n",
    "# - 引数：pytrendsオブジェクト、キーワード\n",
    "# - 戻り値：関連キーワード別別検索数（上位）、関連キーワード別別検索数（急上昇）\n",
    "\n",
    "def related_queries(pytrends, kw):\n",
    "    # 関連キーワード別検索数の計算\n",
    "    related_queries = pytrends.related_queries()\n",
    "\n",
    "    # 上位キーワード\n",
    "    df_related_queries_top = related_queries[kw][\"top\"]       # データフレームに代入\n",
    "\n",
    "    # 急上昇キーワード\n",
    "    df_related_queries_rising = related_queries[kw][\"rising\"] # データフレームに代入\n",
    "\n",
    "    return df_related_queries_top, df_related_queries_rising"
   ]
  },
  {
   "cell_type": "code",
   "execution_count": null,
   "metadata": {
    "scrolled": true
   },
   "outputs": [],
   "source": [
    "#------------------------------------------------------------------\n",
    "# 条件設定（各自で設定）\n",
    "#------------------------------------------------------------------\n",
    "kw = \"東京工科大学\"    # キーワードを指定\n",
    "#------------------------------------------------------------------\n",
    "\n",
    "# 関数呼び出し（関連キーワード別検索数の取得）\n",
    "# - データ出力先（上位キーワード）：df_related_queries_top\n",
    "# - データ出力先（急上昇キーワード）：df_related_queries_rising\n",
    "df_related_queries_top, df_related_queries_rising = related_queries(pytrends, kw)\n",
    "\n",
    "# 上位キーワードの結果表示\n",
    "display(df_related_queries_top.head(10))              \n",
    "\n",
    "# 急上昇キーワードの結果表示\n",
    "display(df_related_queries_rising .head(10))              "
   ]
  },
  {
   "cell_type": "markdown",
   "metadata": {},
   "source": [
    "## 結果データをエクセルファイルに出力"
   ]
  },
  {
   "cell_type": "code",
   "execution_count": null,
   "metadata": {},
   "outputs": [],
   "source": [
    "#------------------------------------------------------------------\n",
    "# 出力設定\n",
    "#------------------------------------------------------------------\n",
    "xlsxfile   = \"Googleトレンド分析.xlsx\" # データを出力するエクセルファイル名                    \n",
    "\n",
    "# Googleドライブの場合はコメントアウトを外す\n",
    "# xlsxfile = \"drive/My Drive/Colab Notebooks/第05回_プログラム/Googleトレンド分析.xlsx\"\n",
    "#------------------------------------------------------------------\n",
    "\n",
    "# df_interest_over_timeの出力（ファイル作成）\n",
    "sheet_name = \"検索数の推移\" \n",
    "df_interest_over_time.to_excel(xlsxfile, sheet_name=sheet_name)  \n",
    "\n",
    "# df_interest_by_regionの出力（シート追加）   \n",
    "sheet_name = \"地域別分析\"              # シート名の指定\n",
    "with pd.ExcelWriter(xlsxfile, engine=\"openpyxl\", mode='a',  if_sheet_exists=\"replace\") as writer:\n",
    "    df_interest_by_region.to_excel(writer, sheet_name=sheet_name)\n",
    "    \n",
    "# df_related_queries_topの出力（シート追加）\n",
    "sheet_name =  \"関連キーワード分析(上位)\"       # シート名の指定\n",
    "with pd.ExcelWriter(xlsxfile, engine=\"openpyxl\", mode='a',  if_sheet_exists=\"replace\") as writer:\n",
    "    df_related_queries_top.to_excel(writer, sheet_name=sheet_name)\n",
    "    \n",
    "# df_related_queries_risingの出力（シート追加）\n",
    "sheet_name =  \"関連キーワード分析(急上昇)\"       # シート名の指定\n",
    "with pd.ExcelWriter(xlsxfile, engine=\"openpyxl\", mode='a',  if_sheet_exists=\"replace\") as writer:\n",
    "    df_related_queries_rising.to_excel(writer, sheet_name=sheet_name)    "
   ]
  },
  {
   "cell_type": "markdown",
   "metadata": {},
   "source": [
    "## 練習\n",
    "自分の興味のあるキーワードでGoogleトレンドの分析をやってみよう"
   ]
  },
  {
   "cell_type": "markdown",
   "metadata": {},
   "source": [
    "(1) `interest_over_time関数`を利用して検索数の推移データを取得し、`trend_graph関数`を利用してグラフ化してみよう。"
   ]
  },
  {
   "cell_type": "code",
   "execution_count": null,
   "metadata": {},
   "outputs": [],
   "source": [
    "\n"
   ]
  },
  {
   "cell_type": "markdown",
   "metadata": {},
   "source": [
    "(2)`interest_by_region関数`を利用して地域別検索数を表示してみよう。"
   ]
  },
  {
   "cell_type": "code",
   "execution_count": null,
   "metadata": {},
   "outputs": [],
   "source": [
    "\n"
   ]
  },
  {
   "cell_type": "markdown",
   "metadata": {},
   "source": [
    "(3)`related_queries関数`を利用し関連キーワード別別検索数を表示してみよう。"
   ]
  },
  {
   "cell_type": "code",
   "execution_count": null,
   "metadata": {},
   "outputs": [],
   "source": [
    "\n"
   ]
  },
  {
   "cell_type": "markdown",
   "metadata": {},
   "source": [
    "(4) 結果ファイルを以下の条件でエクセルファイルに保存してみよう。"
   ]
  },
  {
   "cell_type": "code",
   "execution_count": null,
   "metadata": {},
   "outputs": [],
   "source": [
    "\n"
   ]
  },
  {
   "cell_type": "markdown",
   "metadata": {},
   "source": [
    "----"
   ]
  },
  {
   "cell_type": "markdown",
   "metadata": {},
   "source": [
    "# 株価分析"
   ]
  },
  {
   "cell_type": "markdown",
   "metadata": {},
   "source": [
    "## ライブラリのインストール\n",
    "- `pandas_datareader`: 日経平均、NASDAQ、個別銘柄の株価データ取得ライブラリ"
   ]
  },
  {
   "cell_type": "code",
   "execution_count": null,
   "metadata": {},
   "outputs": [],
   "source": [
    "#以下のコメントアウトを外してください\n",
    "#!pip install pandas-datareader"
   ]
  },
  {
   "cell_type": "markdown",
   "metadata": {},
   "source": [
    "## データ取得"
   ]
  },
  {
   "cell_type": "markdown",
   "metadata": {},
   "source": [
    "### 日経平均の取得\n",
    "- 使用ライブラリ: `pandas_datareader`\n",
    "  - 第1引数：銘柄: 日経225 (コード: ^NKX)\n",
    "  - 第2引数：取得サイト：stooq (各種経済データを公開しているポーランドのサイト:[stooqサイト](https://stooq.com/q/?s=%5Enkx))\n",
    "  - 第3引数: 開始日：2019-06-01\n",
    "  - 第4引数: 終了日: 2020-05-31\n",
    "<br><br>\n",
    "- `df_N225`のデータフレームにデータを代入\n",
    "  - Open：始値\n",
    "  - High：高値\n",
    "  - Low：安値\n",
    "  - Close：終値\n",
    "  - Volume：出来高（取引が成立した株数）\n",
    "  - 時系列データを扱う場合はインデックス（行名）に年月日が入る(通常は0,1,…)\n",
    "  - 曜日の追加: `データフレーム名.index.day_name()`"
   ]
  },
  {
   "cell_type": "code",
   "execution_count": null,
   "metadata": {},
   "outputs": [],
   "source": [
    "# 使用するライブラリ\n",
    "from   pandas_datareader import data\n",
    "import pandas as pd\n",
    "import datetime as dt # 日付型データ生成ライブラリ\n",
    "\n",
    "#------------------------------------------------------------------\n",
    "# 関数定義（株価データ取得）\n",
    "# - 関数名：get_stock\n",
    "# - 引数：銘柄コード、開始日、終了日\n",
    "# - 戻り値：株価データ（データフレーム）\n",
    "#------------------------------------------------------------------\n",
    "def get_stock(code, start, end):\n",
    "    #　取得データをpnadasのデータフレームに挿入\n",
    "    # 時系列を昇順に並び替えるために`sort_index()`を付ける\n",
    "    site  = \"stooq\"  # データ取得サイト\n",
    "    df_stock = data.DataReader(code, site, start, end).sort_index() \n",
    "\n",
    "    # 曜日の追加\n",
    "    df_stock[\"day_name\"] = df_stock.index.day_name()\n",
    "            \n",
    "    return df_stock"
   ]
  },
  {
   "cell_type": "code",
   "execution_count": null,
   "metadata": {
    "scrolled": true
   },
   "outputs": [],
   "source": [
    "# 条件設定（各自で設定）\n",
    "#------------------------------------------------------------------\n",
    "code  = \"^NKX\"               # 銘柄コード\n",
    "start = dt.date(2019,6,1)    # 開始日(年, 月, 日) \n",
    "end   = dt.date(2020,5,31)   # 終了日(年, 月, 日)　\n",
    "#------------------------------------------------------------------\n",
    "\n",
    "# 関数呼び出し（株価データ取得）\n",
    "df_N225 = get_stock(code, start, end)\n",
    "\n",
    "# 表示\n",
    "display(df_N225) "
   ]
  },
  {
   "cell_type": "markdown",
   "metadata": {},
   "source": [
    "### 個別銘柄の株価の取得\n",
    "- [個別銘柄のコード取得](https://quote.jpx.co.jp/jpx/template/quote.cgi?F=tmp/stock_search)\n",
    "  - 例: トヨタ自動車：`7203`\n",
    "  - codeに代入する場合、コードの後ろに`.JP`を付ける：`7203.JP`\n",
    "  <br><br>\n",
    "- `df_stock`のデータフレームにデータを代入"
   ]
  },
  {
   "cell_type": "code",
   "execution_count": null,
   "metadata": {},
   "outputs": [],
   "source": [
    "#------------------------------------------------------------------\n",
    "# 条件設定（各自で設定）\n",
    "#------------------------------------------------------------------\n",
    "code  = \"7203.JP\"            # 銘柄コード\n",
    "start = dt.date(2019,6,1)    # 開始日(年, 月, 日) \n",
    "end   = dt.date(2020,5,31)   # 終了日(年, 月, 日)　\n",
    "#------------------------------------------------------------------\n",
    "\n",
    "# 関数呼び出し（株価データ取得）\n",
    "df_stock = get_stock(code, start, end)\n",
    "\n",
    "# 表示\n",
    "display(df_stock) "
   ]
  },
  {
   "cell_type": "markdown",
   "metadata": {},
   "source": [
    "### 練習\n",
    "上記のセルの設定を書き換えて、興味のある企業の株価を取得してみよう\n",
    "- 個別銘柄のコードは次のサイトで検索 [個別銘柄のコード取得](https://quote.jpx.co.jp/jpx/template/quote.cgi?F=tmp/stock_search)\n",
    "- 取得期間：`2019-06-01`から`2020-05-31`\n",
    "- 取得したデータフレームは`df_stock`のデータフレームに代入"
   ]
  },
  {
   "cell_type": "markdown",
   "metadata": {},
   "source": [
    "----"
   ]
  },
  {
   "cell_type": "markdown",
   "metadata": {},
   "source": [
    "## 時系列グラフ作成"
   ]
  },
  {
   "cell_type": "markdown",
   "metadata": {},
   "source": [
    "### 日経平均（終値）の時系列グラフを作成"
   ]
  },
  {
   "cell_type": "code",
   "execution_count": null,
   "metadata": {},
   "outputs": [],
   "source": [
    "import matplotlib.pyplot as plt # グラフ作成\n",
    "import japanize_matplotlib      # 日本語対応\n",
    "%matplotlib inline\n",
    "\n",
    "#------------------------------------------------------------------\n",
    "# 関数定義（時系列グラフ作成）\n",
    "# - 関数名：stock_graph\n",
    "# - 引数：株価データ（データフレーム）、グラフタイトル、画像ファイル名\n",
    "# - 戻り値：なし\n",
    "#------------------------------------------------------------------\n",
    "def stock_graph(df_input, title, pngfile):\n",
    "    # データ取得\n",
    "    date  = df_input.index    # 日付けデータを取得（インデックス）\n",
    "    price = df_input[\"Close\"] # 列データを取得\n",
    "    \n",
    "    # グラフ作成前に設定するオプション\n",
    "    plt.figure(figsize=(16, 4)) # 図のサイズ（横×縦）\n",
    "\n",
    "    # グラフ作成(x軸、y軸、凡例タイトル、線幅、色を指定)\n",
    "    plt.plot(date, price, label=title, linewidth = 3, color = 'gray') \n",
    "\n",
    "    # 追加オプション\n",
    "    plt.title(title,fontsize=15)              # グラフタイトル\n",
    "    plt.ylabel('株価(円)',fontsize=15)        # y軸ラベル\n",
    "    plt.xticks(fontsize=15)                   # x軸の目盛文字サイズ\n",
    "    plt.yticks(fontsize=15)                   # y軸の目盛文字サイズ\n",
    "    plt.legend(fontsize=15, loc=\"best\")       # 凡例\n",
    "    plt.grid()                                # 補助線追加\n",
    "\n",
    "    # グラフ画像の保存\n",
    "    plt.savefig(pngfile, bbox_inches='tight')  \n",
    "    \n",
    "    # グラフ表示\n",
    "    plt.show()"
   ]
  },
  {
   "cell_type": "code",
   "execution_count": null,
   "metadata": {},
   "outputs": [],
   "source": [
    "#------------------------------------------------------------------\n",
    "# 条件設定（各自で設定）\n",
    "#------------------------------------------------------------------\n",
    "df_input = df_N225     # 使用するデータフレーム名\n",
    "title    = \"日経平均\"  # グラフのタイトル\n",
    "#------------------------------------------------------------------   \n",
    "\n",
    "# 出力設定\n",
    "pngfile  = \"グラフ_株価_01.png\" # グラフ画像のファイル名\n",
    "\n",
    "# Googleドライブの場合は次のコメントアウトを外す\n",
    "# pngfile = \"drive/My Drive/Colab Notebooks/第05回_プログラム/グラフ_株価_日経平均.png\"\n",
    "  \n",
    "# 関数呼び出し（時系列グラフ作成）\n",
    "stock_graph(df_input, title, pngfile) "
   ]
  },
  {
   "cell_type": "markdown",
   "metadata": {},
   "source": [
    "### 練習\n",
    "株価の最初の練習で取得した`df_stock`の終値の時系列グラフを作成しよう。`stock_graph関数`を使用するものとする。"
   ]
  },
  {
   "cell_type": "code",
   "execution_count": null,
   "metadata": {},
   "outputs": [],
   "source": [
    "\n"
   ]
  },
  {
   "cell_type": "markdown",
   "metadata": {},
   "source": [
    "## 時系列データの集計\n",
    "- 集計方法（Pandasのresamleを利用）\n",
    "``` Python\n",
    "データフレーム名[\"列名\"].resample(\"集計単位\").agg([\"処理1\", \"処理2\", ・・・])\n",
    "```    \n",
    "- 集計単位\n",
    "\n",
    "||||\n",
    "|:-:|:-:|:-:|\n",
    "|指定方法 |内容 |区切り位置 |\n",
    "|AS       |年   |年初       |\n",
    "|A        |年   |年末       |\n",
    "|MS       |月   |月初       |\n",
    "|M        |月   |月末       |\n",
    "|W        |週   |日曜日     |\n",
    "|D        |日   |0時        |\n",
    "|H        |時   |0分        |\n",
    "|T        |分   |0秒        |\n",
    "|S        |秒   |           |\n",
    "||||\n",
    "\n",
    "|||\n",
    "|:-:|:-:|\n",
    "|主な処理   |内容    |\n",
    "|min        |最小    |\n",
    "|max        |最大    |\n",
    "|sum        |合計    |\n",
    "|mean       |平均    |\n",
    "|first      |最初の値|\n",
    "|interpolate|補間    |\n",
    "|||"
   ]
  },
  {
   "cell_type": "markdown",
   "metadata": {},
   "source": [
    "### 月間の平均値、最小値、最大値の集計\n",
    "- 対象データ: `df_N225`（日経平均）の`Close`（終値）\n",
    "- 集計単位: M\n",
    "- 処理: mean, min, max\n",
    "- 集計結果を代入するデータフレーム名: `df_N225_M`"
   ]
  },
  {
   "cell_type": "code",
   "execution_count": null,
   "metadata": {},
   "outputs": [],
   "source": [
    "# 月間の平均値、最小値、最大値の集計\n",
    "df_N225_M = df_N225[\"Close\"].resample(\"M\").agg([\"mean\", \"max\", \"min\"])\n",
    "\n",
    "# 表示\n",
    "display(df_N225_M)"
   ]
  },
  {
   "cell_type": "markdown",
   "metadata": {},
   "source": [
    "### n日ごとの平均値、最小値、最大値の集計\n",
    "- 対象データ: `df_N225`（日経平均）の`Close`（終値）\n",
    "- 集計単位: nD (90日の場合：90D) \n",
    "- 処理: mean, min, max\n",
    "- 集計結果を代入するデータフレーム名: `df_N225_90D`"
   ]
  },
  {
   "cell_type": "code",
   "execution_count": null,
   "metadata": {},
   "outputs": [],
   "source": [
    "# 90日ごとのの平均値、最小値、最大値の集計\n",
    "df_N225_90D = df_N225[\"Close\"].resample(\"90D\").agg([\"mean\", \"max\", \"min\"])\n",
    "\n",
    "# 表示\n",
    "display(df_N225_90D)"
   ]
  },
  {
   "cell_type": "markdown",
   "metadata": {},
   "source": [
    "### 練習"
   ]
  },
  {
   "cell_type": "markdown",
   "metadata": {},
   "source": [
    "株価の最初の練習で取得した`df_stock`の終値に関して、年単位の平均値、最小値、最大値を集計してみよう\n",
    "- 対象データ: `df_stock`の`Close`（終値）\n",
    "- 集計単位: `A`\n",
    "- 処理: `mean`, `min`, `max`\n",
    "- 集計結果を代入するデータフレーム名: `df_stock_A`"
   ]
  },
  {
   "cell_type": "code",
   "execution_count": null,
   "metadata": {},
   "outputs": [],
   "source": [
    "\n"
   ]
  },
  {
   "cell_type": "markdown",
   "metadata": {},
   "source": [
    "----"
   ]
  },
  {
   "cell_type": "markdown",
   "metadata": {},
   "source": [
    "## 移動平均の分析"
   ]
  },
  {
   "cell_type": "markdown",
   "metadata": {},
   "source": [
    "### 移動平均の計算\n",
    "- 移動平均は、ある一定区間ごとの平均値を区間をずらしながら求めたもの\n",
    "- 移動平均のグラフを作成すると、長期的な傾向を表す滑らかな曲線が得られる\n",
    "- 今回は、終値(Close)の5日平均（短期傾向）、25日平均（中期傾向）、50日平均（長期傾向）を求める\n",
    "- 集計方法（pandasのrollingを使用）\n",
    "```Python\n",
    "データフレーム名[\"列名\"].rolling(window=日数).mean()\n",
    "```"
   ]
  },
  {
   "cell_type": "markdown",
   "metadata": {},
   "source": [
    "**日経平均の終値の移動平均**"
   ]
  },
  {
   "cell_type": "code",
   "execution_count": null,
   "metadata": {},
   "outputs": [],
   "source": [
    "#------------------------------------------------------------------\n",
    "# 関数定義（移動平均の計算）\n",
    "# - 関数名：sma\n",
    "# - 引数：株価データ（データフレーム）、短期日数、中期日数、長期日数\n",
    "# - 戻り値：移動平均を含む株価データ（データフレーム）\n",
    "#------------------------------------------------------------------\n",
    "def sma(df_input, span_short, span_midium, span_long):\n",
    "    # 移動平均の結果を代入（単純移動平均線（SMA,Simple Moving Average）\n",
    "    df_input['sma_short']  = df_input['Close'].rolling(window=span_short).mean()\n",
    "    df_input['sma_midium'] = df_input['Close'].rolling(window=span_midium).mean()\n",
    "    df_input['sma_long']   = df_input['Close'].rolling(window=span_long).mean()\n",
    "    return df_input"
   ]
  },
  {
   "cell_type": "code",
   "execution_count": null,
   "metadata": {},
   "outputs": [],
   "source": [
    "#------------------------------------------------------------------\n",
    "# 条件設定（各自で設定）\n",
    "#------------------------------------------------------------------\n",
    "df_input    = df_N225     # 使用するデータフレーム名\n",
    "span_short  =  5          # 移動平均（短期）の日数\n",
    "span_midium = 25          # 移動平均（中期）の日数\n",
    "span_long   = 50          # 移動平均（長期）の日数\n",
    "#------------------------------------------------------------------\n",
    "\n",
    "# 関数呼び出し（移動平均の計算）\n",
    "df_sma_N225 = sma(df_input, span_short, span_midium, span_long)\n",
    "\n",
    "# 表示\n",
    "display(df_sma_N225)     "
   ]
  },
  {
   "cell_type": "markdown",
   "metadata": {},
   "source": [
    "**移動平均の日数分のデータ集まった時に平均値が計算できるので、前半はNaN(欠損)となる**<Br>\n",
    "**例えば、5日移動平均の場合、5日目から値が得られる**"
   ]
  },
  {
   "cell_type": "markdown",
   "metadata": {},
   "source": [
    "### 移動平均のグラフ作成"
   ]
  },
  {
   "cell_type": "markdown",
   "metadata": {},
   "source": [
    "**日経平均の終値の移動平均グラフ**"
   ]
  },
  {
   "cell_type": "code",
   "execution_count": null,
   "metadata": {},
   "outputs": [],
   "source": [
    "import matplotlib.pyplot as plt # グラフ作成\n",
    "import japanize_matplotlib      # 日本語対応\n",
    "%matplotlib inline\n",
    "\n",
    "#------------------------------------------------------------------\n",
    "# 関数の定義（移動平均のグラフ作成）\n",
    "# - 関数名：sma_graph\n",
    "# - 引数：株価データ（データフレーム）、グラフタイトル、画像ファイル名\n",
    "# - 戻り値：移動平均を含む株価データ（データフレーム）\n",
    "#------------------------------------------------------------------\n",
    "def sma_graph(df_input, title, pngfile):\n",
    "    # データ取得\n",
    "    date       = df_input.index         # 日付けデータを取得（インデックス）\n",
    "    price      = df_input[\"Close\"]      # 終値データを取得\n",
    "    sma_short  = df_input[\"sma_short\"]  # 短期移動平均データを取得\n",
    "    sma_midium = df_input[\"sma_midium\"] # 短期移動平均データを取得\n",
    "    sma_long   = df_input[\"sma_long\"]   # 短期移動平均データを取得\n",
    "    \n",
    "    # グラフ作成前に設定するオプション\n",
    "    plt.figure(figsize=(16, 4)) # 図のサイズ（横×縦）\n",
    "\n",
    "    # グラフ作成(x軸、y軸、凡例タイトル、線幅、色を指定)\n",
    "    plt.plot(date, price,      label = title,              linewidth = 2, color = 'gray') \n",
    "    plt.plot(date, sma_short,  label = '移動平均（短期）', linewidth = 1, color = 'red')\n",
    "    plt.plot(date, sma_midium, label = '移動平均（中期）', linewidth = 1, color = 'blue')\n",
    "    plt.plot(date, sma_long,   label = '移動平均（長期）', linewidth = 1, color = 'green')\n",
    "\n",
    "    # 追加オプション\n",
    "    plt.title(title,fontsize=15)               # グラフタイトル\n",
    "    plt.ylabel('株価(円)',fontsize=15)        # y軸ラベル\n",
    "    plt.xticks(fontsize=15)                   # x軸の目盛文字サイズ\n",
    "    plt.yticks(fontsize=15)                   # y軸の目盛文字サイズ\n",
    "    plt.legend(fontsize=15, loc=\"best\")       # 凡例\n",
    "    plt.grid()                                # 補助線追加\n",
    "\n",
    "    # グラフ画像の保存\n",
    "    plt.savefig(pngfile, bbox_inches='tight')  \n",
    "    \n",
    "    # グラフ表示\n",
    "    plt.show"
   ]
  },
  {
   "cell_type": "code",
   "execution_count": null,
   "metadata": {},
   "outputs": [],
   "source": [
    "#------------------------------------------------------------------\n",
    "# 条件設定（各自で設定）\n",
    "#------------------------------------------------------------------\n",
    "df_input = df_sma_N225                     # 使用するデータフレーム名\n",
    "title    = \"日経平均\"                      # グラフタイトル（企業名など）\n",
    "#------------------------------------------------------------------\n",
    "\n",
    "# 出力設定\n",
    "pngfile  = \"グラフ_移動平均_01.png\" # グラフ画像のファイル名\n",
    "\n",
    "# Googleドライブの場合はコメントアウトを外す\n",
    "# pngfile = \"drive/My Drive/Colab Notebooks/第05回_プログラム/グラフ_移動平均_日経平均.png\"\n",
    "    \n",
    "# 関数呼び出し（移動平均のグラフ作成）\n",
    "sma_graph(df_input, title, pngfile) "
   ]
  },
  {
   "attachments": {
    "image-2.png": {
     "image/png": "[encoded data removed]"
    }
   },
   "cell_type": "markdown",
   "metadata": {},
   "source": [
    "### 結果の見方（売り買いのサイン）\n",
    "- `ゴールデンクロス`：短期移動平均が中期または長期平均を下から上に超えたとき → `買いサイン`\n",
    "- `デッドクロス`：短期移動平均が中期または長期平均を上から下に超えたとき → `売りサイン`\n",
    "<br><br>\n",
    "![image-2.png](attachment:image-2.png)"
   ]
  },
  {
   "cell_type": "markdown",
   "metadata": {},
   "source": [
    "### 練習\n",
    "株価の最初の練習で取得した`df_stock`の終値の移動平均グラフを作成し、`ゴールデンクロス`や`デットクロス`があるかを確かめてみよう"
   ]
  },
  {
   "cell_type": "markdown",
   "metadata": {},
   "source": [
    "(1) `sma関数`を利用して移動平均を計算し、`df_sma_stock`のデータフレームに代入しよう"
   ]
  },
  {
   "cell_type": "code",
   "execution_count": null,
   "metadata": {},
   "outputs": [],
   "source": [
    "\n"
   ]
  },
  {
   "cell_type": "markdown",
   "metadata": {},
   "source": [
    "(2)`df_sma_stock`対して`sma_graph関数`を利用し、移動平均グラフを作成しよう"
   ]
  },
  {
   "cell_type": "code",
   "execution_count": null,
   "metadata": {},
   "outputs": [],
   "source": [
    "\n"
   ]
  },
  {
   "cell_type": "markdown",
   "metadata": {},
   "source": [
    "## 結果データをエクセルファイルに出力"
   ]
  },
  {
   "cell_type": "code",
   "execution_count": null,
   "metadata": {},
   "outputs": [],
   "source": [
    "#------------------------------------------------------------------\n",
    "# 出力設定\n",
    "#------------------------------------------------------------------\n",
    "xlsxfile   = \"株価分析.xlsx\" # データを出力するエクセルファイル名 \n",
    "\n",
    "# Googleドライブの場合はコメントアウトを外す\n",
    "# xlsxfile = \"drive/My Drive/Colab Notebooks/第05回_プログラム/株価分析.xlsx\"\n",
    "#------------------------------------------------------------------\n",
    "\n",
    "# df_N225の出力（ファイル作成）\n",
    "sheet_name = \"株価_日経平均\"      # シート名の指定\n",
    "df_N225.to_excel(xlsxfile, sheet_name=sheet_name) \n",
    "\n",
    "# df_stockの出力(シート追加)\n",
    "sheet_name = \"株価_トヨタ\"      # シート名の指定\n",
    "with pd.ExcelWriter(xlsxfile, engine=\"openpyxl\", mode='a',  if_sheet_exists=\"replace\") as writer:\n",
    "    df_stock.to_excel(writer, sheet_name=sheet_name) "
   ]
  },
  {
   "cell_type": "markdown",
   "metadata": {},
   "source": [
    "----"
   ]
  }
 ],
 "metadata": {
  "kernelspec": {
   "display_name": "Python 3 (ipykernel)",
   "language": "python",
   "name": "python3"
  },
  "language_info": {
   "codemirror_mode": {
    "name": "ipython",
    "version": 3
   },
   "file_extension": ".py",
   "mimetype": "text/x-python",
   "name": "python",
   "nbconvert_exporter": "python",
   "pygments_lexer": "ipython3",
   "version": "3.11.5"
  },
  "toc": {
   "base_numbering": 1,
   "nav_menu": {},
   "number_sections": true,
   "sideBar": true,
   "skip_h1_title": false,
   "title_cell": "Table of Contents",
   "title_sidebar": "Contents",
   "toc_cell": false,
   "toc_position": {
    "height": "calc(100% - 180px)",
    "left": "10px",
    "top": "150px",
    "width": "165px"
   },
   "toc_section_display": true,
   "toc_window_display": true
  },
  "varInspector": {
   "cols": {
    "lenName": 16,
    "lenType": 16,
    "lenVar": 40
   },
   "kernels_config": {
    "python": {
     "delete_cmd_postfix": "",
     "delete_cmd_prefix": "del ",
     "library": "var_list.py",
     "varRefreshCmd": "print(var_dic_list())"
    },
    "r": {
     "delete_cmd_postfix": ") ",
     "delete_cmd_prefix": "rm(",
     "library": "var_list.r",
     "varRefreshCmd": "cat(var_dic_list()) "
    }
   },
   "types_to_exclude": [
    "module",
    "function",
    "builtin_function_or_method",
    "instance",
    "_Feature"
   ],
   "window_display": false
  }
 },
 "nbformat": 4,
 "nbformat_minor": 4
}
