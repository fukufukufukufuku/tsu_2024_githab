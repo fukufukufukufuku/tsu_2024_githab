{
 "cells": [
  {
   "cell_type": "markdown",
   "metadata": {
    "id": "FX2drfqWBBpU"
   },
   "source": [
    "# Googleの画像検索で検索された画像の取得\n",
    "- AIへの質問例：Googleの画像検索で得られた学生の画像10枚をフォルダに保存するプログラム。フォルダの場所は指定できりょうにする"
   ]
  },
  {
   "cell_type": "code",
   "execution_count": null,
   "metadata": {},
   "outputs": [],
   "source": []
  },
  {
   "cell_type": "markdown",
   "metadata": {
    "id": "Wg66QmPVCAZn"
   },
   "source": [
    "# 写真から人の顔を検出して表示\n",
    "- AIへの質問例：フォルダ内の写真から人の顔を検出して表示するプログラム"
   ]
  },
  {
   "cell_type": "code",
   "execution_count": null,
   "metadata": {},
   "outputs": [],
   "source": []
  }
 ],
 "metadata": {
  "colab": {
   "authorship_tag": "ABX9TyPT6PJ2t9iIq+ZonZ7AGAGk",
   "mount_file_id": "1HzjJOLFY_2KtFOcArQHJUO-sxgKiTSxD",
   "provenance": [],
   "toc_visible": true
  },
  "kernelspec": {
   "display_name": "Python 3 (ipykernel)",
   "language": "python",
   "name": "python3"
  },
  "language_info": {
   "codemirror_mode": {
    "name": "ipython",
    "version": 3
   },
   "file_extension": ".py",
   "mimetype": "text/x-python",
   "name": "python",
   "nbconvert_exporter": "python",
   "pygments_lexer": "ipython3",
   "version": "3.11.5"
  },
  "toc": {
   "base_numbering": 1,
   "nav_menu": {},
   "number_sections": true,
   "sideBar": true,
   "skip_h1_title": false,
   "title_cell": "Table of Contents",
   "title_sidebar": "Contents",
   "toc_cell": false,
   "toc_position": {},
   "toc_section_display": true,
   "toc_window_display": false
  }
 },
 "nbformat": 4,
 "nbformat_minor": 1
}
